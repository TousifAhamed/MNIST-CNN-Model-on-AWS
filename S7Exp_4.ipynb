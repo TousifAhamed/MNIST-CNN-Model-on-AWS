{
  "cells": [
    {
      "cell_type": "markdown",
      "metadata": {
        "id": "VrP_pEvAcvcp"
      },
      "source": [
        "# **StepLR Version 4**\n",
        "# Target:\n",
        "#### StepLR to decrase the learning rate.\n",
        "* Added step LR with step size 7 and gamma 0.1\n",
        "### Results:\n",
        "\n",
        "* Parameters: 5,893\n",
        "* Best Train Accuracy: 99.48%\n",
        "* Best Test Accuracy: 99.07%\n",
        "\n",
        "\n",
        "\n",
        "**Analysis:**\n",
        "- Model is having less parameters less than 8000 parameters.\n",
        "- It is observed that the model is overfitting and there is room for improvement in next version.\n",
        "- Update model with image augmentation and also updaring step LR params\n"
      ]
    },
    {
      "cell_type": "code",
      "execution_count": 10,
      "metadata": {
        "id": "OKf3g-JAmhV0"
      },
      "outputs": [],
      "source": [
        "import torch\n",
        "import torch.nn as nn\n",
        "import torch.nn.functional as F\n",
        "import torch.optim as optim\n",
        "from torchvision import datasets, transforms\n",
        "%matplotlib inline\n",
        "import matplotlib.pyplot as plt\n",
        "from torch.optim.lr_scheduler import StepLR"
      ]
    },
    {
      "cell_type": "markdown",
      "metadata": {
        "id": "XBPqd2Dvmx2m"
      },
      "source": [
        "## Data Transformations\n",
        "\n"
      ]
    },
    {
      "cell_type": "code",
      "execution_count": 2,
      "metadata": {
        "id": "tZ_TpF6GmulT"
      },
      "outputs": [],
      "source": [
        "# Train Phase transformations\n",
        "train_transforms = transforms.Compose([\n",
        "                                       transforms.Resize((28, 28)),\n",
        "                                       transforms.ColorJitter(brightness=0.10, contrast=0.1, saturation=0.10, hue=0.1),\n",
        "                                       transforms.ToTensor(),\n",
        "                                       transforms.Normalize((0.1307,), (0.3081,))\n",
        "                                       ])\n",
        "\n",
        "# Test Phase transformations\n",
        "test_transforms = transforms.Compose([\n",
        "                                       transforms.Resize((28, 28)),\n",
        "                                       transforms.ColorJitter(brightness=0.10, contrast=0.1, saturation=0.10, hue=0.1),\n",
        "                                       transforms.ToTensor(),\n",
        "                                       transforms.Normalize((0.1307,), (0.3081,))\n",
        "                                       ])\n"
      ]
    },
    {
      "cell_type": "markdown",
      "metadata": {
        "id": "9nXSE_6wnBc6"
      },
      "source": [
        "# Dataset and Creating Train/Test Split"
      ]
    },
    {
      "cell_type": "code",
      "execution_count": 3,
      "metadata": {
        "colab": {
          "base_uri": "https://localhost:8080/"
        },
        "id": "wRELEU_Km7oT",
        "outputId": "996e20ea-cbbe-46c6-c6b1-5b3fdc92163d"
      },
      "outputs": [
        {
          "name": "stdout",
          "output_type": "stream",
          "text": [
            "Downloading http://yann.lecun.com/exdb/mnist/train-images-idx3-ubyte.gz\n",
            "Failed to download (trying next):\n",
            "HTTP Error 403: Forbidden\n",
            "\n",
            "Downloading https://ossci-datasets.s3.amazonaws.com/mnist/train-images-idx3-ubyte.gz\n",
            "Downloading https://ossci-datasets.s3.amazonaws.com/mnist/train-images-idx3-ubyte.gz to ./data/MNIST/raw/train-images-idx3-ubyte.gz\n"
          ]
        },
        {
          "name": "stderr",
          "output_type": "stream",
          "text": [
            "100%|██████████| 9.91M/9.91M [00:00<00:00, 18.1MB/s]\n"
          ]
        },
        {
          "name": "stdout",
          "output_type": "stream",
          "text": [
            "Extracting ./data/MNIST/raw/train-images-idx3-ubyte.gz to ./data/MNIST/raw\n",
            "\n",
            "Downloading http://yann.lecun.com/exdb/mnist/train-labels-idx1-ubyte.gz\n",
            "Failed to download (trying next):\n",
            "HTTP Error 403: Forbidden\n",
            "\n",
            "Downloading https://ossci-datasets.s3.amazonaws.com/mnist/train-labels-idx1-ubyte.gz\n",
            "Downloading https://ossci-datasets.s3.amazonaws.com/mnist/train-labels-idx1-ubyte.gz to ./data/MNIST/raw/train-labels-idx1-ubyte.gz\n"
          ]
        },
        {
          "name": "stderr",
          "output_type": "stream",
          "text": [
            "100%|██████████| 28.9k/28.9k [00:00<00:00, 502kB/s]\n"
          ]
        },
        {
          "name": "stdout",
          "output_type": "stream",
          "text": [
            "Extracting ./data/MNIST/raw/train-labels-idx1-ubyte.gz to ./data/MNIST/raw\n",
            "\n",
            "Downloading http://yann.lecun.com/exdb/mnist/t10k-images-idx3-ubyte.gz\n",
            "Failed to download (trying next):\n",
            "HTTP Error 403: Forbidden\n",
            "\n",
            "Downloading https://ossci-datasets.s3.amazonaws.com/mnist/t10k-images-idx3-ubyte.gz\n",
            "Downloading https://ossci-datasets.s3.amazonaws.com/mnist/t10k-images-idx3-ubyte.gz to ./data/MNIST/raw/t10k-images-idx3-ubyte.gz\n"
          ]
        },
        {
          "name": "stderr",
          "output_type": "stream",
          "text": [
            "100%|██████████| 1.65M/1.65M [00:00<00:00, 4.56MB/s]\n"
          ]
        },
        {
          "name": "stdout",
          "output_type": "stream",
          "text": [
            "Extracting ./data/MNIST/raw/t10k-images-idx3-ubyte.gz to ./data/MNIST/raw\n",
            "\n",
            "Downloading http://yann.lecun.com/exdb/mnist/t10k-labels-idx1-ubyte.gz\n",
            "Failed to download (trying next):\n",
            "HTTP Error 403: Forbidden\n",
            "\n",
            "Downloading https://ossci-datasets.s3.amazonaws.com/mnist/t10k-labels-idx1-ubyte.gz\n",
            "Downloading https://ossci-datasets.s3.amazonaws.com/mnist/t10k-labels-idx1-ubyte.gz to ./data/MNIST/raw/t10k-labels-idx1-ubyte.gz\n"
          ]
        },
        {
          "name": "stderr",
          "output_type": "stream",
          "text": [
            "100%|██████████| 4.54k/4.54k [00:00<00:00, 11.3MB/s]"
          ]
        },
        {
          "name": "stdout",
          "output_type": "stream",
          "text": [
            "Extracting ./data/MNIST/raw/t10k-labels-idx1-ubyte.gz to ./data/MNIST/raw\n",
            "\n"
          ]
        },
        {
          "name": "stderr",
          "output_type": "stream",
          "text": [
            "\n"
          ]
        }
      ],
      "source": [
        "train = datasets.MNIST('./data', train=True, download=True, transform=train_transforms)\n",
        "test = datasets.MNIST('./data', train=False, download=True, transform=test_transforms)"
      ]
    },
    {
      "cell_type": "markdown",
      "metadata": {
        "id": "ZAUGfA1GnLHh"
      },
      "source": [
        "# Dataloader Arguments & Test/Train Dataloaders\n",
        "\n"
      ]
    },
    {
      "cell_type": "code",
      "execution_count": 4,
      "metadata": {
        "colab": {
          "base_uri": "https://localhost:8080/"
        },
        "id": "QMzOhJsinJ-Z",
        "outputId": "dc28373f-467c-4c23-923a-12ecb23c17a3"
      },
      "outputs": [
        {
          "name": "stdout",
          "output_type": "stream",
          "text": [
            "CUDA Available? True\n"
          ]
        },
        {
          "name": "stderr",
          "output_type": "stream",
          "text": [
            "/usr/local/lib/python3.10/dist-packages/torch/utils/data/dataloader.py:617: UserWarning: This DataLoader will create 4 worker processes in total. Our suggested max number of worker in current system is 2, which is smaller than what this DataLoader is going to create. Please be aware that excessive worker creation might get DataLoader running slow or even freeze, lower the worker number to avoid potential slowness/freeze if necessary.\n",
            "  warnings.warn(\n"
          ]
        }
      ],
      "source": [
        "SEED = 1\n",
        "\n",
        "cuda = torch.cuda.is_available()\n",
        "print(\"CUDA Available?\", cuda)\n",
        "\n",
        "torch.manual_seed(SEED)\n",
        "\n",
        "if cuda:\n",
        "    torch.cuda.manual_seed(SEED)\n",
        "\n",
        "dataloader_args = dict(shuffle=True, batch_size=128, num_workers=4, pin_memory=True) if cuda else dict(shuffle=True, batch_size=64)\n",
        "\n",
        "train_loader = torch.utils.data.DataLoader(train, **dataloader_args)\n",
        "test_loader = torch.utils.data.DataLoader(test, **dataloader_args)\n"
      ]
    },
    {
      "cell_type": "markdown",
      "metadata": {
        "id": "au0KL3r2nzE7"
      },
      "source": [
        "# The Model Architecture\n"
      ]
    },
    {
      "cell_type": "code",
      "execution_count": 5,
      "metadata": {
        "id": "Hie1L8EsnuDZ"
      },
      "outputs": [],
      "source": [
        "class Net(nn.Module):\n",
        "    def __init__(self):\n",
        "        super(Net, self).__init__()\n",
        "\n",
        "        # INPUT BLOCK\n",
        "        # First convolution layer to process input image\n",
        "        # Input: 28x28x1 | Output: 26x26x7\n",
        "        self.convblock1 = nn.Sequential(\n",
        "            nn.Conv2d(in_channels=1, out_channels=7, kernel_size=(3, 3), padding=0, bias=False),\n",
        "            nn.ReLU(),  # Activation function\n",
        "            nn.BatchNorm2d(num_features=7)  # Normalize the features\n",
        "        )\n",
        "\n",
        "        # CONVOLUTION BLOCK 1\n",
        "        # Increase feature maps and reduce spatial dimensions\n",
        "        # Input: 26x26x7 | Output: 24x24x14\n",
        "        self.convblock2 = nn.Sequential(\n",
        "            nn.Conv2d(in_channels=7, out_channels=14, kernel_size=(3, 3), padding=0, bias=False),\n",
        "            nn.ReLU(),\n",
        "            nn.BatchNorm2d(num_features=14)\n",
        "        )\n",
        "\n",
        "        # First pooling layer to reduce spatial dimensions\n",
        "        # Input: 24x24x14 | Output: 12x12x14\n",
        "        self.pool1 = nn.MaxPool2d(2, 2)\n",
        "\n",
        "        # Reduce channels while maintaining spatial information\n",
        "        # Input: 12x12x14 | Output: 10x10x7\n",
        "        self.convblock3 = nn.Sequential(\n",
        "            nn.Conv2d(in_channels=14, out_channels=7, kernel_size=(3, 3), padding=0, bias=False),\n",
        "            nn.ReLU(),\n",
        "            nn.BatchNorm2d(num_features=7)\n",
        "        )\n",
        "\n",
        "        # TRANSITION BLOCK 1\n",
        "        # Note: pool1 is defined twice - this might be a bug in the original code\n",
        "        # Second pooling operation\n",
        "        # Input: 10x10x7 | Output: 5x5x7\n",
        "        self.pool1 = nn.MaxPool2d(2, 2)\n",
        "\n",
        "        # 1x1 convolution to increase channels without affecting spatial dimensions\n",
        "        # Input: 5x5x7 | Output: 5x5x14\n",
        "        self.convblock4 = nn.Sequential(\n",
        "            nn.Conv2d(in_channels=7, out_channels=14, kernel_size=(1, 1), padding=0, bias=False),\n",
        "            nn.ReLU(),\n",
        "            nn.BatchNorm2d(num_features=14)\n",
        "        )\n",
        "\n",
        "        # CONVOLUTION BLOCK 2\n",
        "        # Further feature extraction with increased channels\n",
        "        # Input: 5x5x14 | Output: 3x3x28\n",
        "        self.convblock5 = nn.Sequential(\n",
        "            nn.Conv2d(in_channels=14, out_channels=28, kernel_size=(3, 3), padding=0, bias=False),\n",
        "            nn.ReLU(),\n",
        "            nn.BatchNorm2d(num_features=28)\n",
        "        )\n",
        "\n",
        "        # OUTPUT BLOCK\n",
        "        # 1x1 convolution to reduce channels to match number of classes\n",
        "        # Input: 3x3x28 | Output: 3x3x10\n",
        "        self.convblock6 = nn.Sequential(\n",
        "            nn.Conv2d(in_channels=28, out_channels=10, kernel_size=(1, 1), padding=0, bias=False),\n",
        "            nn.ReLU(),\n",
        "            nn.BatchNorm2d(num_features=10)\n",
        "        )\n",
        "\n",
        "        # Global average pooling to reduce spatial dimensions\n",
        "        # Input: 3x3x10 | Output: 1x1x10\n",
        "        self.convblock7 = nn.Sequential(\n",
        "            nn.AvgPool2d(kernel_size=(3,3))\n",
        "        )\n",
        "\n",
        "    def forward(self, x):\n",
        "        # Forward pass through the network\n",
        "        x = self.convblock1(x)  # Initial feature extraction\n",
        "        x = self.convblock2(x)  # Increase feature maps\n",
        "        x = self.pool1(x)       # Reduce spatial dimensions\n",
        "        x = self.convblock3(x)  # Channel reduction\n",
        "        x = self.pool1(x)       # Further spatial reduction\n",
        "        x = self.convblock4(x)  # Channel increase with 1x1 conv\n",
        "        x = self.convblock5(x)  # Deep feature extraction\n",
        "        x = self.convblock6(x)  # Reduce to number of classes\n",
        "        x = self.convblock7(x)  # Global average pooling\n",
        "        x = x.view(-1, 10)      # Flatten to (batch_size, num_classes)\n",
        "        return F.log_softmax(x, dim=-1)  # Apply log softmax for classification"
      ]
    },
    {
      "cell_type": "markdown",
      "metadata": {
        "id": "MQ-vcGQaWasJ"
      },
      "source": [
        "# Model Params"
      ]
    },
    {
      "cell_type": "code",
      "execution_count": 6,
      "metadata": {
        "colab": {
          "base_uri": "https://localhost:8080/"
        },
        "id": "0tit7ZFAo_-d",
        "outputId": "67db7287-8802-42e0-d120-4fa512ae6abf"
      },
      "outputs": [
        {
          "name": "stdout",
          "output_type": "stream",
          "text": [
            "Requirement already satisfied: torchsummary in /usr/local/lib/python3.10/dist-packages (1.5.1)\n"
          ]
        }
      ],
      "source": [
        "!pip install torchsummary"
      ]
    },
    {
      "cell_type": "code",
      "execution_count": 7,
      "metadata": {
        "colab": {
          "base_uri": "https://localhost:8080/"
        },
        "id": "4QE1ymAgpDTa",
        "outputId": "bf397eab-f49c-473e-b9c5-2c2bbd314a14"
      },
      "outputs": [
        {
          "name": "stdout",
          "output_type": "stream",
          "text": [
            "cuda\n",
            "----------------------------------------------------------------\n",
            "        Layer (type)               Output Shape         Param #\n",
            "================================================================\n",
            "            Conv2d-1            [-1, 7, 26, 26]              63\n",
            "              ReLU-2            [-1, 7, 26, 26]               0\n",
            "       BatchNorm2d-3            [-1, 7, 26, 26]              14\n",
            "            Conv2d-4           [-1, 14, 24, 24]             882\n",
            "              ReLU-5           [-1, 14, 24, 24]               0\n",
            "       BatchNorm2d-6           [-1, 14, 24, 24]              28\n",
            "         MaxPool2d-7           [-1, 14, 12, 12]               0\n",
            "            Conv2d-8            [-1, 7, 10, 10]             882\n",
            "              ReLU-9            [-1, 7, 10, 10]               0\n",
            "      BatchNorm2d-10            [-1, 7, 10, 10]              14\n",
            "        MaxPool2d-11              [-1, 7, 5, 5]               0\n",
            "           Conv2d-12             [-1, 14, 5, 5]              98\n",
            "             ReLU-13             [-1, 14, 5, 5]               0\n",
            "      BatchNorm2d-14             [-1, 14, 5, 5]              28\n",
            "           Conv2d-15             [-1, 28, 3, 3]           3,528\n",
            "             ReLU-16             [-1, 28, 3, 3]               0\n",
            "      BatchNorm2d-17             [-1, 28, 3, 3]              56\n",
            "           Conv2d-18             [-1, 10, 3, 3]             280\n",
            "             ReLU-19             [-1, 10, 3, 3]               0\n",
            "      BatchNorm2d-20             [-1, 10, 3, 3]              20\n",
            "        AvgPool2d-21             [-1, 10, 1, 1]               0\n",
            "================================================================\n",
            "Total params: 5,893\n",
            "Trainable params: 5,893\n",
            "Non-trainable params: 0\n",
            "----------------------------------------------------------------\n",
            "Input size (MB): 0.00\n",
            "Forward/backward pass size (MB): 0.34\n",
            "Params size (MB): 0.02\n",
            "Estimated Total Size (MB): 0.37\n",
            "----------------------------------------------------------------\n"
          ]
        }
      ],
      "source": [
        "from torchsummary import summary\n",
        "use_cuda = torch.cuda.is_available()\n",
        "device = torch.device(\"cuda\" if use_cuda else \"cpu\")\n",
        "print(device)\n",
        "model = Net().to(device)\n",
        "summary(model, input_size=(1, 28, 28))"
      ]
    },
    {
      "cell_type": "markdown",
      "metadata": {
        "id": "6i7Sj0lTpMMP"
      },
      "source": [
        "# Training and Testing"
      ]
    },
    {
      "cell_type": "code",
      "execution_count": 8,
      "metadata": {
        "id": "TPuP5dW-pJ3m"
      },
      "outputs": [],
      "source": [
        "from tqdm import tqdm\n",
        "\n",
        "train_losses = []\n",
        "test_losses = []\n",
        "train_acc = []\n",
        "test_acc = []\n",
        "\n",
        "def train(model, device, train_loader, optimizer, epoch):\n",
        "  model.train()\n",
        "  pbar = tqdm(train_loader)\n",
        "  correct = 0\n",
        "  processed = 0\n",
        "  for batch_idx, (data, target) in enumerate(pbar):\n",
        "    # get samples\n",
        "    data, target = data.to(device), target.to(device)\n",
        "\n",
        "    # Init\n",
        "    optimizer.zero_grad()\n",
        "    # In PyTorch, we need to set the gradients to zero before starting to do backpropragation because PyTorch accumulates the gradients on subsequent backward passes.\n",
        "    # Because of this, when you start your training loop, ideally you should zero out the gradients so that you do the parameter update correctly.\n",
        "\n",
        "    # Predict\n",
        "    y_pred = model(data)\n",
        "\n",
        "    # Calculate loss\n",
        "    loss = F.nll_loss(y_pred, target)\n",
        "    train_losses.append(loss)\n",
        "\n",
        "    # Backpropagation\n",
        "    loss.backward()\n",
        "    optimizer.step()\n",
        "\n",
        "    # Update pbar-tqdm\n",
        "\n",
        "    pred = y_pred.argmax(dim=1, keepdim=True)  # get the index of the max log-probability\n",
        "    correct += pred.eq(target.view_as(pred)).sum().item()\n",
        "    processed += len(data)\n",
        "\n",
        "    pbar.set_description(desc= f'Loss={loss.item()} Batch_id={batch_idx} Accuracy={100*correct/processed:0.2f}')\n",
        "    train_acc.append(100*correct/processed)\n",
        "\n",
        "def test(model, device, test_loader):\n",
        "    model.eval()\n",
        "    test_loss = 0\n",
        "    correct = 0\n",
        "    with torch.no_grad():\n",
        "        for data, target in test_loader:\n",
        "            data, target = data.to(device), target.to(device)\n",
        "            output = model(data)\n",
        "            test_loss += F.nll_loss(output, target, reduction='sum').item()  # sum up batch loss\n",
        "            pred = output.argmax(dim=1, keepdim=True)  # get the index of the max log-probability\n",
        "            correct += pred.eq(target.view_as(pred)).sum().item()\n",
        "\n",
        "    test_loss /= len(test_loader.dataset)\n",
        "    test_losses.append(test_loss)\n",
        "\n",
        "    print('\\nTest set: Average loss: {:.4f}, Accuracy: {}/{} ({:.2f}%)\\n'.format(\n",
        "        test_loss, correct, len(test_loader.dataset),\n",
        "        100. * correct / len(test_loader.dataset)))\n",
        "\n",
        "    test_acc.append(100. * correct / len(test_loader.dataset))"
      ]
    },
    {
      "cell_type": "markdown",
      "metadata": {
        "id": "39RfOokTTLIZ"
      },
      "source": [
        "# Let's Train and test our model\n"
      ]
    },
    {
      "cell_type": "code",
      "execution_count": 11,
      "metadata": {
        "colab": {
          "base_uri": "https://localhost:8080/"
        },
        "id": "owGorxWTTKHT",
        "outputId": "8ac8aaa3-83b4-402b-e289-35a12de917e9"
      },
      "outputs": [
        {
          "name": "stdout",
          "output_type": "stream",
          "text": [
            "EPOCH: 0\n"
          ]
        },
        {
          "name": "stderr",
          "output_type": "stream",
          "text": [
            "Loss=0.05379306897521019 Batch_id=468 Accuracy=95.10: 100%|██████████| 469/469 [00:36<00:00, 12.72it/s]\n"
          ]
        },
        {
          "name": "stdout",
          "output_type": "stream",
          "text": [
            "\n",
            "Test set: Average loss: 0.0661, Accuracy: 9821/10000 (98.21%)\n",
            "\n",
            "EPOCH: 1\n"
          ]
        },
        {
          "name": "stderr",
          "output_type": "stream",
          "text": [
            "Loss=0.060438767075538635 Batch_id=468 Accuracy=98.22: 100%|██████████| 469/469 [00:36<00:00, 13.00it/s]\n"
          ]
        },
        {
          "name": "stdout",
          "output_type": "stream",
          "text": [
            "\n",
            "Test set: Average loss: 0.0449, Accuracy: 9865/10000 (98.65%)\n",
            "\n",
            "EPOCH: 2\n"
          ]
        },
        {
          "name": "stderr",
          "output_type": "stream",
          "text": [
            "Loss=0.02942151390016079 Batch_id=468 Accuracy=98.58: 100%|██████████| 469/469 [00:35<00:00, 13.14it/s]\n"
          ]
        },
        {
          "name": "stdout",
          "output_type": "stream",
          "text": [
            "\n",
            "Test set: Average loss: 0.0394, Accuracy: 9885/10000 (98.85%)\n",
            "\n",
            "EPOCH: 3\n"
          ]
        },
        {
          "name": "stderr",
          "output_type": "stream",
          "text": [
            "Loss=0.018762199208140373 Batch_id=468 Accuracy=98.85: 100%|██████████| 469/469 [00:34<00:00, 13.61it/s]\n"
          ]
        },
        {
          "name": "stdout",
          "output_type": "stream",
          "text": [
            "\n",
            "Test set: Average loss: 0.0340, Accuracy: 9902/10000 (99.02%)\n",
            "\n",
            "EPOCH: 4\n"
          ]
        },
        {
          "name": "stderr",
          "output_type": "stream",
          "text": [
            "Loss=0.0719263106584549 Batch_id=468 Accuracy=98.95: 100%|██████████| 469/469 [00:34<00:00, 13.45it/s]\n"
          ]
        },
        {
          "name": "stdout",
          "output_type": "stream",
          "text": [
            "\n",
            "Test set: Average loss: 0.0337, Accuracy: 9908/10000 (99.08%)\n",
            "\n",
            "EPOCH: 5\n"
          ]
        },
        {
          "name": "stderr",
          "output_type": "stream",
          "text": [
            "Loss=0.03011627495288849 Batch_id=468 Accuracy=99.07: 100%|██████████| 469/469 [00:34<00:00, 13.41it/s]\n"
          ]
        },
        {
          "name": "stdout",
          "output_type": "stream",
          "text": [
            "\n",
            "Test set: Average loss: 0.0302, Accuracy: 9909/10000 (99.09%)\n",
            "\n",
            "EPOCH: 6\n"
          ]
        },
        {
          "name": "stderr",
          "output_type": "stream",
          "text": [
            "Loss=0.03821874037384987 Batch_id=468 Accuracy=99.14: 100%|██████████| 469/469 [00:34<00:00, 13.53it/s]\n"
          ]
        },
        {
          "name": "stdout",
          "output_type": "stream",
          "text": [
            "\n",
            "Test set: Average loss: 0.0328, Accuracy: 9906/10000 (99.06%)\n",
            "\n",
            "EPOCH: 7\n"
          ]
        },
        {
          "name": "stderr",
          "output_type": "stream",
          "text": [
            "Loss=0.01444909069687128 Batch_id=468 Accuracy=99.21: 100%|██████████| 469/469 [00:35<00:00, 13.30it/s]\n"
          ]
        },
        {
          "name": "stdout",
          "output_type": "stream",
          "text": [
            "\n",
            "Test set: Average loss: 0.0366, Accuracy: 9892/10000 (98.92%)\n",
            "\n",
            "EPOCH: 8\n"
          ]
        },
        {
          "name": "stderr",
          "output_type": "stream",
          "text": [
            "Loss=0.07248345762491226 Batch_id=468 Accuracy=99.20: 100%|██████████| 469/469 [00:36<00:00, 12.97it/s]\n"
          ]
        },
        {
          "name": "stdout",
          "output_type": "stream",
          "text": [
            "\n",
            "Test set: Average loss: 0.0274, Accuracy: 9910/10000 (99.10%)\n",
            "\n",
            "EPOCH: 9\n"
          ]
        },
        {
          "name": "stderr",
          "output_type": "stream",
          "text": [
            "Loss=0.007146233227103949 Batch_id=468 Accuracy=99.29: 100%|██████████| 469/469 [00:36<00:00, 13.01it/s]\n"
          ]
        },
        {
          "name": "stdout",
          "output_type": "stream",
          "text": [
            "\n",
            "Test set: Average loss: 0.0293, Accuracy: 9913/10000 (99.13%)\n",
            "\n",
            "EPOCH: 10\n"
          ]
        },
        {
          "name": "stderr",
          "output_type": "stream",
          "text": [
            "Loss=0.0405421108007431 Batch_id=468 Accuracy=99.34: 100%|██████████| 469/469 [00:35<00:00, 13.24it/s]\n"
          ]
        },
        {
          "name": "stdout",
          "output_type": "stream",
          "text": [
            "\n",
            "Test set: Average loss: 0.0303, Accuracy: 9914/10000 (99.14%)\n",
            "\n",
            "EPOCH: 11\n"
          ]
        },
        {
          "name": "stderr",
          "output_type": "stream",
          "text": [
            "Loss=0.002213273663073778 Batch_id=468 Accuracy=99.36: 100%|██████████| 469/469 [00:34<00:00, 13.52it/s]\n"
          ]
        },
        {
          "name": "stdout",
          "output_type": "stream",
          "text": [
            "\n",
            "Test set: Average loss: 0.0314, Accuracy: 9898/10000 (98.98%)\n",
            "\n",
            "EPOCH: 12\n"
          ]
        },
        {
          "name": "stderr",
          "output_type": "stream",
          "text": [
            "Loss=0.015532109886407852 Batch_id=468 Accuracy=99.44: 100%|██████████| 469/469 [00:34<00:00, 13.54it/s]\n"
          ]
        },
        {
          "name": "stdout",
          "output_type": "stream",
          "text": [
            "\n",
            "Test set: Average loss: 0.0334, Accuracy: 9904/10000 (99.04%)\n",
            "\n",
            "EPOCH: 13\n"
          ]
        },
        {
          "name": "stderr",
          "output_type": "stream",
          "text": [
            "Loss=0.05172210559248924 Batch_id=468 Accuracy=99.45: 100%|██████████| 469/469 [00:34<00:00, 13.58it/s]\n"
          ]
        },
        {
          "name": "stdout",
          "output_type": "stream",
          "text": [
            "\n",
            "Test set: Average loss: 0.0310, Accuracy: 9900/10000 (99.00%)\n",
            "\n",
            "EPOCH: 14\n"
          ]
        },
        {
          "name": "stderr",
          "output_type": "stream",
          "text": [
            "Loss=0.023953689262270927 Batch_id=468 Accuracy=99.48: 100%|██████████| 469/469 [00:35<00:00, 13.10it/s]\n"
          ]
        },
        {
          "name": "stdout",
          "output_type": "stream",
          "text": [
            "\n",
            "Test set: Average loss: 0.0294, Accuracy: 9907/10000 (99.07%)\n",
            "\n"
          ]
        }
      ],
      "source": [
        "model =  Net().to(device)\n",
        "optimizer = optim.SGD(model.parameters(), lr=0.1, momentum=0.9)\n",
        "scheduler = StepLR(optimizer, step_size=7, gamma=0.1)\n",
        "EPOCHS = 15\n",
        "for epoch in range(EPOCHS):\n",
        "    print(\"EPOCH:\", epoch)\n",
        "    train(model, device, train_loader, optimizer, epoch)\n",
        "\n",
        "    test(model, device, test_loader)"
      ]
    },
    {
      "cell_type": "code",
      "execution_count": 12,
      "metadata": {
        "colab": {
          "base_uri": "https://localhost:8080/",
          "height": 607
        },
        "id": "XEe-qIk_TdcB",
        "outputId": "bad3016f-871a-498d-bc19-7ec65c95f22a"
      },
      "outputs": [
        {
          "data": {
            "text/plain": [
              "Text(0.5, 1.0, 'Test Accuracy')"
            ]
          },
          "execution_count": 12,
          "metadata": {},
          "output_type": "execute_result"
        },
        {
          "data": {
            "image/png": "[encoded data removed]",
            "text/plain": [
              "<Figure size 1500x1000 with 4 Axes>"
            ]
          },
          "metadata": {},
          "output_type": "display_data"
        }
      ],
      "source": [
        "# Commented out IPython magic to ensure Python compatibility.\n",
        "t = [t_items.item() for t_items in train_losses]\n",
        "# %matplotlib inline\n",
        "import matplotlib.pyplot as plt\n",
        "fig, axs = plt.subplots(2,2,figsize=(15,10))\n",
        "axs[0, 0].plot(t)\n",
        "axs[0, 0].set_title(\"Training Loss\")\n",
        "axs[1, 0].plot(train_acc)\n",
        "axs[1, 0].set_title(\"Training Accuracy\")\n",
        "axs[0, 1].plot(test_losses)\n",
        "axs[0, 1].set_title(\"Test Loss\")\n",
        "axs[1, 1].plot(test_acc)\n",
        "axs[1, 1].set_title(\"Test Accuracy\")"
      ]
    },
    {
      "cell_type": "code",
      "execution_count": null,
      "metadata": {
        "id": "O6T-8YykYoQE"
      },
      "outputs": [],
      "source": []
    }
  ],
  "metadata": {
    "accelerator": "GPU",
    "colab": {
      "gpuType": "T4",
      "provenance": []
    },
    "kernelspec": {
      "display_name": "Python 3",
      "name": "python3"
    },
    "language_info": {
      "name": "python"
    }
  },
  "nbformat": 4,
  "nbformat_minor": 0
}
